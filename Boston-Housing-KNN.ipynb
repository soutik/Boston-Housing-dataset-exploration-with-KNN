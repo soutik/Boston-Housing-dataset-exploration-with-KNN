{
 "cells": [
  {
   "cell_type": "markdown",
   "metadata": {},
   "source": [
    "# KNN: Boston Housing\n",
    "\n",
    "In this exploration we will use the [Boston Housing Prices Data Set](http://archive.ics.uci.edu/ml/datasets/Housing)Please read about the dataset carefully before continuing.  "
   ]
  },
  {
   "cell_type": "code",
   "execution_count": 2,
   "metadata": {
    "collapsed": false
   },
   "outputs": [],
   "source": [
    "import IPython\n",
    "import numpy as np\n",
    "import scipy as sp\n",
    "import pandas as pd\n",
    "import matplotlib\n",
    "import sklearn as sk\n",
    "import statsmodels.formula.api as smf\n",
    "import statsmodels.api as sm\n"
   ]
  },
  {
   "cell_type": "markdown",
   "metadata": {},
   "source": [
    "---\n",
    "Use the following commands to load the dataset:\n"
   ]
  },
  {
   "cell_type": "code",
   "execution_count": 3,
   "metadata": {
    "collapsed": false
   },
   "outputs": [],
   "source": [
    "from sklearn.datasets import load_boston\n",
    "bdata = load_boston()"
   ]
  },
  {
   "cell_type": "markdown",
   "metadata": {},
   "source": [
    "The following commands will provide some basic information about the shape of the data:"
   ]
  },
  {
   "cell_type": "code",
   "execution_count": 4,
   "metadata": {
    "collapsed": false
   },
   "outputs": [
    {
     "name": "stdout",
     "output_type": "stream",
     "text": [
      "['data', 'feature_names', 'DESCR', 'target']\n",
      "['CRIM' 'ZN' 'INDUS' 'CHAS' 'NOX' 'RM' 'AGE' 'DIS' 'RAD' 'TAX' 'PTRATIO'\n",
      " 'B' 'LSTAT']\n",
      "(506, 13)\n",
      "(506,)\n",
      "Boston House Prices dataset\n",
      "\n",
      "Notes\n",
      "------\n",
      "Data Set Characteristics:  \n",
      "\n",
      "    :Number of Instances: 506 \n",
      "\n",
      "    :Number of Attributes: 13 numeric/categorical predictive\n",
      "    \n",
      "    :Median Value (attribute 14) is usually the target\n",
      "\n",
      "    :Attribute Information (in order):\n",
      "        - CRIM     per capita crime rate by town\n",
      "        - ZN       proportion of residential land zoned for lots over 25,000 sq.ft.\n",
      "        - INDUS    proportion of non-retail business acres per town\n",
      "        - CHAS     Charles River dummy variable (= 1 if tract bounds river; 0 otherwise)\n",
      "        - NOX      nitric oxides concentration (parts per 10 million)\n",
      "        - RM       average number of rooms per dwelling\n",
      "        - AGE      proportion of owner-occupied units built prior to 1940\n",
      "        - DIS      weighted distances to five Boston employment centres\n",
      "        - RAD      index of accessibility to radial highways\n",
      "        - TAX      full-value property-tax rate per $10,000\n",
      "        - PTRATIO  pupil-teacher ratio by town\n",
      "        - B        1000(Bk - 0.63)^2 where Bk is the proportion of blacks by town\n",
      "        - LSTAT    % lower status of the population\n",
      "        - MEDV     Median value of owner-occupied homes in $1000's\n",
      "\n",
      "    :Missing Attribute Values: None\n",
      "\n",
      "    :Creator: Harrison, D. and Rubinfeld, D.L.\n",
      "\n",
      "This is a copy of UCI ML housing dataset.\n",
      "http://archive.ics.uci.edu/ml/datasets/Housing\n",
      "\n",
      "\n",
      "This dataset was taken from the StatLib library which is maintained at Carnegie Mellon University.\n",
      "\n",
      "The Boston house-price data of Harrison, D. and Rubinfeld, D.L. 'Hedonic\n",
      "prices and the demand for clean air', J. Environ. Economics & Management,\n",
      "vol.5, 81-102, 1978.   Used in Belsley, Kuh & Welsch, 'Regression diagnostics\n",
      "...', Wiley, 1980.   N.B. Various transformations are used in the table on\n",
      "pages 244-261 of the latter.\n",
      "\n",
      "The Boston house-price data has been used in many machine learning papers that address regression\n",
      "problems.   \n",
      "     \n",
      "**References**\n",
      "\n",
      "   - Belsley, Kuh & Welsch, 'Regression diagnostics: Identifying Influential Data and Sources of Collinearity', Wiley, 1980. 244-261.\n",
      "   - Quinlan,R. (1993). Combining Instance-Based and Model-Based Learning. In Proceedings on the Tenth International Conference of Machine Learning, 236-243, University of Massachusetts, Amherst. Morgan Kaufmann.\n",
      "   - many more! (see http://archive.ics.uci.edu/ml/datasets/Housing)\n",
      "\n"
     ]
    }
   ],
   "source": [
    "print bdata.keys()\n",
    "print bdata.feature_names\n",
    "print bdata.data.shape\n",
    "print bdata.target.shape\n",
    "# uncomment the following if you want to see a lengthy description of the dataset\n",
    "print bdata.DESCR"
   ]
  },
  {
   "cell_type": "markdown",
   "metadata": {},
   "source": [
    "---\n",
    "\n",
    "## Part 1: Descriptive analysis\n",
    "\n",
    "Before beginning the \"real\" work, dig into the data a bit do see what you're dealing with.\n",
    "\n",
    "### 1.1: Histogram of housing prices\n",
    "\n",
    "Below you will find some very basic code to make a very basic histogram of median housing prices (the \"target\" variable) of the dataset"
   ]
  },
  {
   "cell_type": "code",
   "execution_count": 6,
   "metadata": {
    "collapsed": false
   },
   "outputs": [
    {
     "data": {
      "image/png": "[encoded data removed]",
      "text/plain": [
       "<matplotlib.figure.Figure at 0x106031850>"
      ]
     },
     "metadata": {},
     "output_type": "display_data"
    }
   ],
   "source": [
    "# prepare IPython to work with matplotlib and import the library to something convenient\n",
    "%matplotlib inline  \n",
    "import matplotlib.pyplot as plt  \n",
    "plt.style.use('ggplot')\n",
    "\n",
    "# edit the code below to make the graph look good\n",
    "plt.figure(figsize=(15,5))\n",
    "plot = plt.hist(bdata.target, bins=45, color='g', edgecolor = 'white')\n",
    "plt.xlabel('Median Value of Houses $1000s')\n",
    "plt.ylabel('Count of Houses')\n",
    "plt.show()"
   ]
  },
  {
   "cell_type": "markdown",
   "metadata": {},
   "source": [
    "### 1.2: Scatter plot of housing prices and crime\n",
    "\n",
    "Using matplotlib let's create a scatter plot that shows the relationship between the median value of the home (y-axis) and the per-capita crime rate (x-axis).  \n"
   ]
  },
  {
   "cell_type": "code",
   "execution_count": 7,
   "metadata": {
    "collapsed": false
   },
   "outputs": [
    {
     "data": {
      "image/png": "[encoded data removed]",
      "text/plain": [
       "<matplotlib.figure.Figure at 0x109d79350>"
      ]
     },
     "metadata": {},
     "output_type": "display_data"
    }
   ],
   "source": [
    "plt.figure(figsize=(15,5))\n",
    "plot = plt.scatter(bdata.data[:,0], bdata.target)\n",
    "plt.xlim(-1,100)\n",
    "plt.ylabel('Median Value of Home')\n",
    "plt.xlabel('Per Capita Crime Rate')\n",
    "plt.title('Scatter Plot of Median Value of home v/s per capita crime rate')\n",
    "plt.show()"
   ]
  },
  {
   "cell_type": "markdown",
   "metadata": {},
   "source": [
    "We now try to regress the Number of bedrooms ('B') to obtain the Median Home Price (MEDV). We use a scatter plot and on top of it place the regression line to show the relation"
   ]
  },
  {
   "cell_type": "code",
   "execution_count": 8,
   "metadata": {
    "collapsed": false
   },
   "outputs": [
    {
     "name": "stdout",
     "output_type": "stream",
     "text": [
      "Fitting with B\n",
      "[ 10.55103414   0.03359306]\n"
     ]
    },
    {
     "data": {
      "image/png": "[encoded data removed]",
      "text/plain": [
       "<matplotlib.figure.Figure at 0x109dbbf10>"
      ]
     },
     "metadata": {},
     "output_type": "display_data"
    }
   ],
   "source": [
    "data = np.column_stack((bdata.data,bdata.target))\n",
    "#print data.shape\n",
    "fit1 = smf.OLS(data[:,13], sm.add_constant(data[:,11])).fit()\n",
    "\n",
    "print \"Fitting with B\"\n",
    "print fit1.params\n",
    "\n",
    "\n",
    "\n",
    "x1 = np.array(range(0,400))\n",
    "y1 = fit1.params[0] + fit1.params[1]*x1\n",
    "\n",
    "plt.figure(figsize = (15,5))\n",
    "scat = plt.scatter(data[:,11], data[:,13], color = 'g', alpha = 0.5)\n",
    "plt.xlim([-5,410])\n",
    "model1, = plt.plot(x1, y1, linewidth = 1.5)\n",
    "\n",
    "plt.legend([model1,], [\"Model : \\nalpha = 10.55103414 \\nbeta = 0.03359306\"])\n",
    "plt.xlabel('Median Home valuation')\n",
    "plt.ylabel('No. of bedrooms per house')\n",
    "plt.title('Showing relation of No. of Bedrooms with Median Home value')\n",
    "plt.show()"
   ]
  },
  {
   "cell_type": "markdown",
   "metadata": {},
   "source": [
    "---\n",
    "\n",
    "## Part 2: Experimental Setup\n",
    "\n",
    "The goal of the next few sections is to design an experiment to predict the median home value for an instance in the data.\n",
    "\n",
    "### 2.1 Function to compute the Root Mean Squared Error for a list of numbers\n",
    "\n",
    "You can find the sqrt function in the Numpy package. Furthermore the details of RMSE can be found on [Wikipedia](http://en.wikipedia.org/wiki/Root-mean-square_deviation)\n",
    "\n"
   ]
  },
  {
   "cell_type": "code",
   "execution_count": 9,
   "metadata": {
    "collapsed": false,
    "scrolled": false
   },
   "outputs": [],
   "source": [
    "\"\"\"\n",
    "Function\n",
    "--------\n",
    "compute_rmse\n",
    "\n",
    "Given two arrays, one of actual values and one of predicted values,\n",
    "compute the Roote Mean Squared Error\n",
    "\n",
    "Parameters\n",
    "----------\n",
    "predictions : array\n",
    "    Array of numerical values corresponding to predictions for each of the N observations\n",
    "\n",
    "yvalues : array\n",
    "    Array of numerical values corresponding to the actual values for each of the N observations\n",
    "\n",
    "Returns\n",
    "-------\n",
    "rmse : int\n",
    "    Root Mean Squared Error of the prediction\n",
    "\n",
    "Example\n",
    "-------\n",
    ">>> print compute_rmse((2,2,3),(0,2,6))\n",
    "2.08\n",
    "\"\"\"\n",
    "\n",
    "def compute_rmse(predictions, yvalues):\n",
    "    error_sq = (predictions - yvalues)**2\n",
    "    error_sq = error_sq.sum()\n",
    "    rmse = np.sqrt(error_sq/float(len(predictions)))\n",
    "    return rmse"
   ]
  },
  {
   "cell_type": "markdown",
   "metadata": {},
   "source": [
    "### 2.2 Dividing data into training and testing datasets\n",
    "\n",
    "Randomly select 66% of the data and put this in a training dataset (called this \"bdata_train\"), and place the remaining 34% in a testing dataset (called this \"bdata_test\")\n"
   ]
  },
  {
   "cell_type": "code",
   "execution_count": 10,
   "metadata": {
    "collapsed": false
   },
   "outputs": [
    {
     "name": "stderr",
     "output_type": "stream",
     "text": [
      "/Users/soutik/anaconda/lib/python2.7/site-packages/ipykernel/__main__.py:10: DeprecationWarning: using a non-integer number instead of an integer will result in an error in the future\n",
      "/Users/soutik/anaconda/lib/python2.7/site-packages/ipykernel/__main__.py:12: DeprecationWarning: using a non-integer number instead of an integer will result in an error in the future\n"
     ]
    }
   ],
   "source": [
    "# leave the following line untouched, it will help ensure that your \"random\" \n",
    "# split is the same \"random\" split used by the rest of the class\n",
    "np.random.seed(seed=13579)\n",
    "\n",
    "\n",
    "# Function to randomly split the data into test and train\n",
    "def random_split(data, target, per_train):\n",
    "    data = np.insert(data, data.shape[1],target, axis = 1)\n",
    "    np.random.shuffle(data)\n",
    "    train = data[0:per_train*len(target),:]\n",
    "    #train = np.array(train, dtype = dtype)\n",
    "    test = data[per_train*len(target):len(target),:]\n",
    "    #test = np.array(test, dtype = dtype)\n",
    "    return train, test, data\n",
    "\n",
    "\n",
    "# Create train, test and entire dataset using the random_split function\n",
    "bdata_train, bdata_test, data = random_split(bdata.data, bdata.target, 0.66)\n"
   ]
  },
  {
   "cell_type": "markdown",
   "metadata": {},
   "source": [
    "### 2.3 Mean value of train data for prediction, and computing RMSE\n",
    "\n",
    "Creating a model that predicts, for every observation x_i, that the median home value is the average (mean) of the median values for all instances in the training set.  We compute the RMSE on the training set.  Now we compute the RMSE on the test data set (but use the model trained on the training set!)."
   ]
  },
  {
   "cell_type": "code",
   "execution_count": 11,
   "metadata": {
    "collapsed": false
   },
   "outputs": [
    {
     "name": "stdout",
     "output_type": "stream",
     "text": [
      "Data shape (rows, columns):  (333, 14)\n",
      "Training RMSE using Train data mean:  8.58496788378\n",
      "Test RMSE using Train data mean:  10.2816716248\n"
     ]
    }
   ],
   "source": [
    "# Printing the shape of the dataset\n",
    "print 'Data shape (rows, columns): ', bdata_train.shape\n",
    "\n",
    "# Calulate the mean value of the train dataset target\n",
    "mean = np.mean(bdata_train[:,13])\n",
    "\n",
    "# Calulcating RMSE value of test and train data\n",
    "print 'Training RMSE using Train data mean: ', compute_rmse(bdata_train[:,13], mean)\n",
    "print 'Test RMSE using Train data mean: ', compute_rmse(bdata_test[:,13], mean)"
   ]
  },
  {
   "cell_type": "markdown",
   "metadata": {},
   "source": [
    "As we can see from the above output, the RMSE value for test dataset when calculated with respect to the mean of the train data is higher than the RMSE obtained from the train data w.r.t mean of train data.\n",
    "\n",
    "This is exactly as expected as we can expect the mean error to be higher when the predicted values are mean of a different dataset. We will expect the train dataset to have a lower error. If we would've used the test mean to predict test values and then calculate the RMSE, we would've gotten a lower RMSE as the mean would more closely represent the test data than the train mean does in our case. "
   ]
  },
  {
   "cell_type": "markdown",
   "metadata": {},
   "source": [
    "---\n",
    "\n",
    "## Part 3: Nearest Neighbors\n"
   ]
  },
  {
   "cell_type": "markdown",
   "metadata": {},
   "source": [
    "### 3.1 Nearest Neighbors: Distance function\n",
    "Let's try and build a machine learning algorithm to beat the \"Average Value\" baseline that you computed above.  Soon we will implement the Nearest Neighbor algorithm, but first we need to create a distance metric to measure the distance (and similarity) between two instances.  We write a generic function to compute the L-Norm distance (called the [*p*-norm](http://en.wikipedia.org/wiki/Norm_(mathematics) distance on Wikipedia)."
   ]
  },
  {
   "cell_type": "code",
   "execution_count": 12,
   "metadata": {
    "collapsed": false
   },
   "outputs": [],
   "source": [
    "\"\"\"\n",
    "Function\n",
    "--------\n",
    "distance\n",
    "\n",
    "Given two instances and a value for L, return the L-Norm distance between them\n",
    "\n",
    "Parameters\n",
    "----------\n",
    "x1, x2 : array\n",
    "    Array of numerical values corresponding to predictions for each of the N observations\n",
    "\n",
    "L: int\n",
    "    Value of L to use in computing distances\n",
    "\n",
    "Returns\n",
    "-------\n",
    "dist : int\n",
    "    The L-norm distance between instances\n",
    "\n",
    "Example\n",
    "-------\n",
    ">>> print distance(np.array([3,4]),np.array([6,8]),2)\n",
    "7\n",
    "\n",
    "\"\"\"\n",
    "\n",
    "def distance(x1, x2, L):\n",
    "    \n",
    "    dist = x1-x2\n",
    "    sqr = dist**L\n",
    "    final = sqr.sum(axis = 1)\n",
    "    #print final\n",
    "    return np.array(pow(final,1/float(L)))"
   ]
  },
  {
   "cell_type": "markdown",
   "metadata": {},
   "source": [
    "### 3.2 Basic Nearest Neighbor algorithm\n",
    "\n",
    "Now things get fun.  Our next task is to implement a basic nearest neighbor algorithm from scratch.  Our simple model will use two input features (CRIM and RM) and a single output (MEDV).  In other words, we are modelling the relationship between median home value and crime rates and house size.\n",
    "\n",
    "Let's use our training data (bdata_train) to \"fit\" our model, although as we know, with Nearest Neighbors there is no real training, we just need to keep your training data in memory.  We write a function that predicts, for each instance in the testing data (bdata_test), the median home value using the nearest neighbor algorithm.\n"
   ]
  },
  {
   "cell_type": "code",
   "execution_count": 13,
   "metadata": {
    "collapsed": false,
    "scrolled": false
   },
   "outputs": [
    {
     "name": "stdout",
     "output_type": "stream",
     "text": [
      "Time Taken is : 0.0177299976349\n",
      "7.45009989459\n"
     ]
    }
   ],
   "source": [
    "\"\"\"\n",
    "Function\n",
    "--------\n",
    "neighbor\n",
    "    Given two datasets (test & train), calculate the nearest neighbor and return the RMSE value\n",
    "\n",
    "Parameters\n",
    "----------\n",
    "train, test : array\n",
    "    Multidimensional array containing the train and test dataset\n",
    "\n",
    "col_num : array\n",
    "    1D array containing the column indices of the columns we want to use to find the distance\n",
    "\n",
    "L: int\n",
    "    Value of L to use in computing distances\n",
    "\n",
    "Returns\n",
    "-------\n",
    "rmse : int\n",
    "    The RMSE value between predicted and original target value based on nearest neighbors \n",
    "\n",
    "Example\n",
    "-------\n",
    ">>> print neighbor(bdata_train, bdata_test,[0,5],[13],2)\n",
    "Time Taken is : 0.0110039710999\n",
    "7.45009989459\n",
    "\n",
    "\"\"\"\n",
    "\n",
    "import time\n",
    "def neighbor(train, test, col_num, target, L, k=1):\n",
    "    start_time = time.time()\n",
    "    final = []\n",
    "    for i in range(len(test)):\n",
    "        dist = distance(train[:,col_num], test[i,col_num], L)        \n",
    "        dist = dist[:, np.newaxis]\n",
    "        dist2 = np.append(dist, train[:,target],1)\n",
    "        \n",
    "        sortd = dist2[np.argsort(dist2[:,0]),:][0]  \n",
    "        final.append(sortd)\n",
    "    \n",
    "    final2 = np.array(final)\n",
    "    final2 = np.append(final2, test[:, target], axis = 1)\n",
    "    #print final2[:,1], test[:,target]\n",
    "    rmse = compute_rmse(final2[:,1], final2[:,2])\n",
    "    print 'Time Taken is : ' + str(time.time() - start_time)\n",
    "    return rmse\n",
    "\n",
    "    \n",
    "\n",
    "print neighbor(bdata_train, bdata_test,[0,5],[13],2)\n"
   ]
  },
  {
   "cell_type": "markdown",
   "metadata": {},
   "source": [
    "### 3.3 Results and Normalization\n",
    "\n",
    "If you were being astute, you would have noticed that we never normalized our features -- a big no-no with Nearest Neighbor algorithms.  Let's write a generic normalization function that takes as input an array of values for a given feature, and returns the normalized array (subtract the mean and divide by the standard deviation).\n",
    "\n",
    "Let's then re-run the Nearest Neighbor algorithm on the normalized dataset (still just using CRIM and RM as input), and compare the RMSE from this method with your previous RMSE evaluations.\n",
    "\n",
    "*NOTE*: To normalize properly, best practice is to compute the mean and standard deviation on the training set, and use these values to normalize the testing dataset. However, for this example,we will separately normalize each dataset using the respective mean and standard deviation."
   ]
  },
  {
   "cell_type": "code",
   "execution_count": 14,
   "metadata": {
    "collapsed": false
   },
   "outputs": [
    {
     "name": "stdout",
     "output_type": "stream",
     "text": [
      "Time Taken is : 0.0100131034851\n",
      "RMSE using normalized input based on nearest neighborsn algorithm:  7.73437264626\n"
     ]
    }
   ],
   "source": [
    "\"\"\"\n",
    "Function\n",
    "--------\n",
    "normalize2\n",
    "    Given 2 array, return the normalized value of the array by calculating each value of array as\n",
    "    x = (x - mean(array(x)))/sd(array(x))\n",
    "\n",
    "Parameters\n",
    "----------\n",
    "raw_data : array\n",
    "    1D array which is to be normalized\n",
    "\n",
    "Returns\n",
    "-------\n",
    "normalized_data : array\n",
    "    1D Normalized array\n",
    "\n",
    "Example\n",
    "-------\n",
    ">>> print normalize2(bdata_train[:,0])\n",
    "\n",
    "\"\"\"\n",
    "# Function to normalize data with explicitly stated mean and std deviations\n",
    "def normalize(raw_data, mn, stddev):\n",
    "    #your code here\n",
    "    normalized_data = (raw_data-mn)/float(stddev)\n",
    "    return normalized_data\n",
    "\n",
    "# Function we will use in our analysis\n",
    "def normalize2(raw_data):\n",
    "    normalized_data = (raw_data-np.mean(raw_data))/float(np.std(raw_data))\n",
    "    return normalized_data\n",
    "\n",
    "\n",
    "# Calulating the normalized values of test and train data's column RM and CRIM\n",
    "test = np.vstack((normalize2(bdata_test[:,0]),normalize2(bdata_test[:,5]),(bdata_test[:,13]))).T\n",
    "train = np.vstack((normalize2(bdata_train[:,0]),normalize2(bdata_train[:,5]),(bdata_train[:,13]))).T\n",
    "z = neighbor(train, test, [0,1], [2], 2)\n",
    "print 'RMSE using normalized input based on nearest neighborsn algorithm: ', z"
   ]
  },
  {
   "cell_type": "markdown",
   "metadata": {},
   "source": [
    "We can see that we obtain a much lower RMSE when we use Normalized inputs of the data. This is because the nearest neighbors algorithm works best when all the scales of the predictor variables are the same. This is because while calulcation the distance we can obtain a better final distance when we have same scaled variables."
   ]
  },
  {
   "cell_type": "code",
   "execution_count": 15,
   "metadata": {
    "collapsed": true
   },
   "outputs": [],
   "source": [
    "# Normalizing entire dataset for future use\n",
    "norm_data = np.vstack((normalize2(bdata.data[:,0]), normalize2(bdata.data[:,1]), normalize2(bdata.data[:,2]),\n",
    "                     normalize2(bdata.data[:,3]), normalize2(bdata.data[:,4]), normalize2(bdata.data[:,5]), \n",
    "                     normalize2(bdata.data[:,6]), normalize2(bdata.data[:,7]), normalize2(bdata.data[:,8]),\n",
    "                     normalize2(bdata.data[:,9]), normalize2(bdata.data[:,10]), normalize2(bdata.data[:,11]),\n",
    "                     normalize2(bdata.data[:,12]), (bdata.target))).T"
   ]
  },
  {
   "cell_type": "markdown",
   "metadata": {},
   "source": [
    "### 3.4 Optimization\n",
    "\n",
    "A lot of the decisions we've made so far have been arbitrary.  Let's try to increase the performance of our nearest neighbor algorithm by adding features that we think might be relevant, and by using different values of L in the distance function. "
   ]
  },
  {
   "cell_type": "code",
   "execution_count": 16,
   "metadata": {
    "collapsed": false
   },
   "outputs": [
    {
     "name": "stdout",
     "output_type": "stream",
     "text": [
      "Time Taken is : 0.0111210346222\n",
      "With L = 2 and LSAT and AGE as varaibles 7.59468554681\n",
      "Time Taken is : 0.0204339027405\n",
      "With L = 4 and LSAT and AGE as varaibles 7.41175835074\n"
     ]
    }
   ],
   "source": [
    "# Trying different L values\n",
    "test3 = np.vstack((normalize(bdata_test[:,12], np.mean(bdata_test[:,12]), np.std(bdata_test[:,12])), \n",
    "                  normalize(bdata_test[:,9], np.mean(bdata_test[:,9]), np.std(bdata_test[:,9])), \n",
    "                  (bdata_test[:,13]))).T\n",
    "\n",
    "train3 = np.vstack((normalize(bdata_train[:,12], np.mean(bdata_train[:,12]), np.std(bdata_train[:,12])), \n",
    "                   normalize(bdata_train[:,9], np.mean(bdata_train[:,9]), np.std(bdata_train[:,9])), \n",
    "                   (bdata_train[:,13]))).T\n",
    "\n",
    "print 'With L = 2 and LSAT and AGE as varaibles ' + str(neighbor(train3, test3, [0,1], [2], 2))\n",
    "print 'With L = 4 and LSAT and AGE as varaibles ' + str(neighbor(train3, test3, [0,1], [2], 4))\n"
   ]
  },
  {
   "cell_type": "code",
   "execution_count": 19,
   "metadata": {
    "collapsed": false
   },
   "outputs": [
    {
     "name": "stdout",
     "output_type": "stream",
     "text": [
      "RMSE after taking 5 normalized varaibles & L = 2:\n",
      "Time Taken is : 0.0145320892334\n",
      "6.02802702603\n",
      "\n",
      "\n",
      "RMSE after taking 5 normalized varaibles & L = 4:\n",
      "Time Taken is : 0.0106921195984\n",
      "6.02802702603\n"
     ]
    }
   ],
   "source": [
    "test0 = np.vstack((normalize2(bdata_test[:,12]), normalize2(bdata_test[:,0]),\n",
    "                  normalize2(bdata_test[:,5]),normalize2(bdata_test[:,6]),normalize2(bdata_test[:,9]),\n",
    "                  (bdata_test[:,13]))).T\n",
    "\n",
    "train0 = np.vstack((normalize2(bdata_train[:,12]),normalize2(bdata_train[:,0]),\n",
    "                    normalize2(bdata_train[:,5]),normalize2(bdata_train[:,6]),normalize2(bdata_train[:,9]),\n",
    "                    (bdata_train[:,13]))).T\n",
    "\n",
    "\n",
    "\n",
    "print \"RMSE after taking 5 normalized varaibles & L = 2:\"\n",
    "print neighbor(train0, test0, [0,1,2,3,4], [5], 2)\n",
    "\n",
    "print \"\\n\"\n",
    "print \"RMSE after taking 5 normalized varaibles & L = 4:\"\n",
    "print neighbor(train0, test0, [0,1,2,3,4], [5], 2)\n"
   ]
  },
  {
   "cell_type": "markdown",
   "metadata": {},
   "source": [
    "As we can see that when we increase the value of L the time taken to calculate the RMSE increases. In the case of 2 variables we also see that a higher L value results in a slightly better RMSE, but when we have more number of varaibles the difference in RMSE is none based on L value."
   ]
  },
  {
   "cell_type": "markdown",
   "metadata": {},
   "source": [
    "### 3.5 Cross-Validation\n",
    "\n",
    "We will now write a function to do cross validation for us as that will help us get a better RMSE estimate of our model."
   ]
  },
  {
   "cell_type": "code",
   "execution_count": 20,
   "metadata": {
    "collapsed": false
   },
   "outputs": [
    {
     "name": "stdout",
     "output_type": "stream",
     "text": [
      "Output of 10-fold cross validation using CRIM and RM: \n",
      "\n",
      "Time Taken is : 0.0045690536499\n",
      "Time Taken is : 0.00310301780701\n",
      "Time Taken is : 0.00413393974304\n",
      "Time Taken is : 0.00378704071045\n",
      "Time Taken is : 0.00340700149536\n",
      "Time Taken is : 0.00354194641113\n",
      "Time Taken is : 0.0038161277771\n",
      "Time Taken is : 0.00309801101685\n",
      "Time Taken is : 0.00344014167786\n",
      "Time Taken is : 0.00365996360779\n",
      "Average RMSE is  6.94231763925\n",
      "Total Time taken for CV  0.0426950454712\n",
      "6.94231763925\n"
     ]
    }
   ],
   "source": [
    "# Creating functions to get indices of k-fold data\n",
    "def partition(l, n):\n",
    "    for i in xrange(0, len(l), n):\n",
    "        yield l[i:i+n]\n",
    "\n",
    "# K-fold cross validation function \n",
    "def kfoldcv(data, K, func, L, col_num, target, k=1):\n",
    "    start_time = time.time()\n",
    "    \n",
    "    # Creating buckets each with indices\n",
    "    buckets = list(partition(range(len(data)),int(len(data)/K)))\n",
    "    \n",
    "    # Making sure that the we only have K buckets. \n",
    "    if len(buckets) > K:\n",
    "        buckets[K-1] = buckets[K-1] + buckets[K]\n",
    "        buckets.remove(buckets[K])\n",
    "     \n",
    "    rmse = []\n",
    "    \n",
    "    # Splitting data into train and test using 'k-1' folds for train and 1 fold for test\n",
    "    for i in range(K):\n",
    "        test_ind = buckets[i]\n",
    "        train_ind = range(len(data))\n",
    "        train_ind = [elem for elem in train_ind if elem not in test_ind]\n",
    "        \n",
    "        train = data[train_ind,:]\n",
    "        test = data[test_ind,:]\n",
    "        \n",
    "        # Calculate the RMSE of each of the k-folds using the function specified at the input\n",
    "        rmse.append(func(train, test, col_num, target, L, k))\n",
    "    \n",
    "    # Pring average RMSE for whole k- fold CV\n",
    "    print 'Average RMSE is ', str(np.mean(rmse))\n",
    "    \n",
    "    # Total time taken for the CV\n",
    "    print 'Total Time taken for CV ', str(time.time()-start_time)\n",
    "    \n",
    "    # Return the mean of the all the RMSE of the K-fold CV\n",
    "    return np.mean(rmse)\n",
    "    \n",
    "\n",
    "#print kfoldcv(data, 10, neighbor, 2, [0,5], [13])\n",
    "\n",
    "# Normalizing data\n",
    "new_data2 = np.vstack((normalize2(bdata.data[:,0]),\n",
    "                    normalize2(bdata.data[:,5]),\n",
    "                    (bdata.target))).T\n",
    "\n",
    "# passing normalized data through K-fold cross validation and using the 'neighbor' function\n",
    "print 'Output of 10-fold cross validation using CRIM and RM: \\n'\n",
    "print kfoldcv(new_data2, 10, neighbor,2,[0,1], [2], 3)"
   ]
  },
  {
   "cell_type": "markdown",
   "metadata": {},
   "source": [
    "### 3.6 K-Nearest Neighbors Algorithm\n",
    "\n",
    "We now implement the K-Nearest Neighbors algorithm."
   ]
  },
  {
   "cell_type": "code",
   "execution_count": 22,
   "metadata": {
    "collapsed": false
   },
   "outputs": [
    {
     "name": "stdout",
     "output_type": "stream",
     "text": [
      "RMSE of non-normalized data of predictor variables of RM and CRIM \n",
      "\n",
      "6.70820345379\n"
     ]
    }
   ],
   "source": [
    "\"\"\"\n",
    "Function\n",
    "--------\n",
    "knn\n",
    "    Given test and train data along with other values, this function predicts the 'target' based on the average of the \n",
    "    K nearest neighbors from the training set.\n",
    "\n",
    "Parameters\n",
    "----------\n",
    "train, test : arrays\n",
    "    Multi-dimensional arrays\n",
    "\n",
    "col_num, target : array\n",
    "    1D arrays specifying the predictors and the target columns in test and train data\n",
    "\n",
    "L, K : integers\n",
    "    L = value of the L in L-norm distance\n",
    "    K = value of the k in k-nearest neighbors\n",
    "\n",
    "Returns\n",
    "-------\n",
    "rmse : int\n",
    "    The RMSE value between predicted and original target value based on k nearest neighbors \n",
    "\n",
    "Example\n",
    "-------\n",
    ">>> print knn(bdata_train, bdata_test,[0,5],[13],2, 3)\n",
    "Time Taken is : 0.0110039710999\n",
    "7.45009989459\n",
    "\"\"\"\n",
    "\n",
    "def knn(train, test, col_num, target, L, K):\n",
    "    start_time = time.time()\n",
    "    final = []\n",
    "    for j in range(len(test)):\n",
    "        dist = distance(train[:,col_num], test[j,col_num], L)        \n",
    "        dist = dist[:, np.newaxis]\n",
    "        dist2 = np.append(dist, train[:,target],1)\n",
    "\n",
    "        sortd = dist2[np.argsort(dist2[:,0]),:]\n",
    "        #print sortd[0:3]\n",
    "        #print np.mean(sortd[0:3], axis=0)\n",
    "        final.append(np.mean(sortd[0:K], axis = 0))\n",
    "    \n",
    "   \n",
    "    final = np.array(final)\n",
    "    \n",
    "    final2 = np.append(final, test[:,target],1)\n",
    "    rmse = compute_rmse(final2[:,1], final2[:,2])\n",
    "\n",
    "    #print 'Time Taken is : ' + str(time.time() - start_time)\n",
    "    return rmse\n",
    "\n",
    "print \"RMSE of non-normalized data of predictor variables of RM and CRIM \\n\"\n",
    "print knn(bdata_train, bdata_test, [0,5], [13], 2, 3)\n",
    " "
   ]
  },
  {
   "cell_type": "markdown",
   "metadata": {},
   "source": [
    "### 3.7 Using cross validation to find K\n",
    "\n",
    "We will now try to find the best value of 'k' for our KNN classifier using the lowest RMSE obtained by increasing K from 1 to 25. We also plot a graph to show the RMSE trend with respect to K below."
   ]
  },
  {
   "cell_type": "code",
   "execution_count": 24,
   "metadata": {
    "collapsed": false
   },
   "outputs": [
    {
     "name": "stdout",
     "output_type": "stream",
     "text": [
      "Average RMSE is  6.07447106171\n",
      "Total Time taken for CV  0.0594348907471\n",
      "Average RMSE is  5.7109109321\n",
      "Total Time taken for CV  0.0504858493805\n",
      "Average RMSE is  5.49972100388\n",
      "Total Time taken for CV  0.0565781593323\n",
      "Average RMSE is  5.3799865722\n",
      "Total Time taken for CV  0.0523099899292\n",
      "Average RMSE is  5.24387292655\n",
      "Total Time taken for CV  0.0528059005737\n",
      "Average RMSE is  5.27581843695\n",
      "Total Time taken for CV  0.0556769371033\n",
      "Average RMSE is  5.26553644689\n",
      "Total Time taken for CV  0.0536351203918\n",
      "Average RMSE is  5.25006386435\n",
      "Total Time taken for CV  0.0517721176147\n",
      "Average RMSE is  5.27256272063\n",
      "Total Time taken for CV  0.0559539794922\n",
      "Average RMSE is  5.26355729617\n",
      "Total Time taken for CV  0.0641088485718\n",
      "Average RMSE is  5.29875070796\n",
      "Total Time taken for CV  0.0647609233856\n",
      "Average RMSE is  5.33036085089\n",
      "Total Time taken for CV  0.065994977951\n",
      "Average RMSE is  5.38125777299\n",
      "Total Time taken for CV  0.063157081604\n",
      "Average RMSE is  5.39222050596\n",
      "Total Time taken for CV  0.0549027919769\n",
      "Average RMSE is  5.40936628364\n",
      "Total Time taken for CV  0.0575051307678\n",
      "Average RMSE is  5.41989443475\n",
      "Total Time taken for CV  0.0658369064331\n",
      "Average RMSE is  5.45186121768\n",
      "Total Time taken for CV  0.0586030483246\n",
      "Average RMSE is  5.49641691593\n",
      "Total Time taken for CV  0.0533790588379\n",
      "Average RMSE is  5.4960017238\n",
      "Total Time taken for CV  0.0596539974213\n",
      "Average RMSE is  5.54791222731\n",
      "Total Time taken for CV  0.0539259910583\n",
      "Average RMSE is  5.54946741649\n",
      "Total Time taken for CV  0.0555009841919\n",
      "Average RMSE is  5.55256268315\n",
      "Total Time taken for CV  0.0547709465027\n",
      "Average RMSE is  5.56943251143\n",
      "Total Time taken for CV  0.056499004364\n",
      "Average RMSE is  5.59273131663\n",
      "Total Time taken for CV  0.057510137558\n",
      "Average RMSE is  5.61357141992\n",
      "Total Time taken for CV  0.0571300983429\n",
      "The best value of K for KNN classifier for this data is : 5\n"
     ]
    }
   ],
   "source": [
    "rmse = []\n",
    "m = 100\n",
    "#new_data = normalize2(data)\n",
    "for i in range(25):\n",
    "    rmse.append(kfoldcv(norm_data, 10, knn, 2, [0,1,5,6,7,9], [13], i+1))\n",
    "    if m > rmse[i]:\n",
    "        m = rmse[i]\n",
    "        ind = i+1\n",
    "\n",
    "\n",
    "print 'The best value of K for KNN classifier for this data is :', str(ind)"
   ]
  },
  {
   "cell_type": "markdown",
   "metadata": {},
   "source": [
    "We see that when using the normalized variables CRIM, ZN, RM, AGE, DIS, TAX we obtain the best RMSE at k = 5. We also see this trend in the graph below where we can see that the lowest RMSE is obtained at K = 5"
   ]
  },
  {
   "cell_type": "code",
   "execution_count": 25,
   "metadata": {
    "collapsed": false
   },
   "outputs": [
    {
     "data": {
      "image/png": "[encoded data removed]",
      "text/plain": [
       "<matplotlib.figure.Figure at 0x109fb9610>"
      ]
     },
     "metadata": {},
     "output_type": "display_data"
    }
   ],
   "source": [
    "# Creating k values\n",
    "i = range(26)\n",
    "i.remove(0)\n",
    "\n",
    "# Plotting average RMSE v/s K\n",
    "plt.figure(figsize=(13,5))\n",
    "plot = plt.plot( i,rmse, color = 'r')\n",
    "plt.axhline(y = min(rmse), c = 'b', alpha = 0.3)\n",
    "plt.title('RMSE vs K for KNN algorithm')\n",
    "plt.xlabel('K value')\n",
    "plt.ylabel('Avergae RMSE')\n",
    "plt.show()"
   ]
  },
  {
   "cell_type": "code",
   "execution_count": null,
   "metadata": {
    "collapsed": true
   },
   "outputs": [],
   "source": []
  }
 ],
 "metadata": {
  "kernelspec": {
   "display_name": "Python 2",
   "language": "python",
   "name": "python2"
  },
  "language_info": {
   "codemirror_mode": {
    "name": "ipython",
    "version": 2
   },
   "file_extension": ".py",
   "mimetype": "text/x-python",
   "name": "python",
   "nbconvert_exporter": "python",
   "pygments_lexer": "ipython2",
   "version": "2.7.11"
  }
 },
 "nbformat": 4,
 "nbformat_minor": 0
}
